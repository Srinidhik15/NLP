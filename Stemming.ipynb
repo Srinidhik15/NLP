{
 "cells": [
  {
   "cell_type": "code",
   "execution_count": 1,
   "id": "860df6b4",
   "metadata": {},
   "outputs": [],
   "source": [
    "import nltk\n",
    "from nltk.stem import PorterStemmer\n",
    "from nltk.corpus import stopwords"
   ]
  },
  {
   "cell_type": "code",
   "execution_count": 2,
   "id": "95bf155c",
   "metadata": {},
   "outputs": [],
   "source": [
    "paragraph = \"\"\"I have three visions for India. In 3000 years of our history, people from all over \n",
    "               the world have come and invaded us, captured our lands, conquered our minds. \n",
    "               From Alexander onwards, the Greeks, the Turks, the Moguls, the Portuguese, the British,\n",
    "               the French, the Dutch, all of them came and looted us, took over what was ours. \n",
    "               Yet we have not done this to any other nation. We have not conquered anyone. \n",
    "               We have not grabbed their land, their culture, \n",
    "               their history and tried to enforce our way of life on them. \n",
    "               Why? Because we respect the freedom of others.That is why my \n",
    "               first vision is that of freedom. I believe that India got its first vision of \n",
    "               this in 1857, when we started the War of Independence. It is this freedom that\n",
    "               we must protect and nurture and build on. If we are not free, no one will respect us.\n",
    "               My second vision for India’s development. For fifty years we have been a developing nation.\n",
    "               It is time we see ourselves as a developed nation. We are among the top 5 nations of the world\n",
    "               in terms of GDP. We have a 10 percent growth rate in most areas. Our poverty levels are falling.\n",
    "               Our achievements are being globally recognised today. Yet we lack the self-confidence to\n",
    "               see ourselves as a developed nation, self-reliant and self-assured. Isn’t this incorrect?\n",
    "               I have a third vision. India must stand up to the world. Because I believe that unless India \n",
    "               stands up to the world, no one will respect us. Only strength respects strength. We must be \n",
    "               strong not only as a military power but also as an economic power. Both must go hand-in-hand. \n",
    "               My good fortune was to have worked with three great minds. Dr. Vikram Sarabhai of the Dept. of \n",
    "               space, Professor Satish Dhawan, who succeeded him and Dr. Brahm Prakash, father of nuclear material.\n",
    "               I was lucky to have worked with all three of them closely and consider this the great opportunity of my life. \n",
    "               I see four milestones in my career\"\"\""
   ]
  },
  {
   "cell_type": "code",
   "execution_count": 3,
   "id": "32d06641",
   "metadata": {},
   "outputs": [],
   "source": [
    "sentences = nltk.sent_tokenize(paragraph)\n",
    "stemmer = PorterStemmer()"
   ]
  },
  {
   "cell_type": "code",
   "execution_count": 8,
   "id": "fb2f55bc",
   "metadata": {},
   "outputs": [
    {
     "name": "stdout",
     "output_type": "stream",
     "text": [
      "['three', 'vision', 'india', '.']\n",
      "['3000', 'year', 'histori', ',', 'peopl', 'world', 'come', 'invad', 'us', ',', 'captur', 'land', ',', 'conquer', 'mind', '.']\n",
      "['alexand', 'onward', ',', 'greek', ',', 'turk', ',', 'mogul', ',', 'portugu', ',', 'british', ',', 'french', ',', 'dutch', ',', 'came', 'loot', 'us', ',', 'took', '.']\n",
      "['yet', 'done', 'nation', '.']\n",
      "['conquer', 'anyon', '.']\n",
      "['grab', 'land', ',', 'cultur', ',', 'histori', 'tri', 'enforc', 'way', 'life', '.']\n",
      "['whi', '?']\n",
      "['becau', 'respect', 'freedom', 'others.that', 'first', 'vision', 'freedom', '.']\n",
      "['believ', 'india', 'got', 'first', 'vision', '1857', ',', 'start', 'war', 'independ', '.']\n",
      "['freedom', 'must', 'protect', 'nurtur', 'build', '.']\n",
      "['free', ',', 'one', 'respect', 'us', '.']\n",
      "['second', 'vision', 'india', '’', 'develop', '.']\n",
      "['fifti', 'year', 'develop', 'nation', '.']\n",
      "['time', 'see', 'develop', 'nation', '.']\n",
      "['among', 'top', '5', 'nation', 'world', 'term', 'gdp', '.']\n",
      "['10', 'percent', 'growth', 'rate', 'area', '.']\n",
      "['poverti', 'level', 'fall', '.']\n",
      "['achiev', 'global', 'recogni', 'today', '.']\n",
      "['yet', 'lack', 'self-confid', 'see', 'develop', 'nation', ',', 'self-r', 'self-assur', '.']\n",
      "['’', 'incorrect', '?']\n",
      "['third', 'vision', '.']\n",
      "['india', 'must', 'stand', 'world', '.']\n",
      "['becau', 'believ', 'unless', 'india', 'stand', 'world', ',', 'one', 'respect', 'us', '.']\n",
      "['onli', 'strength', 'respect', 'strength', '.']\n",
      "['must', 'strong', 'militari', 'power', 'also', 'econom', 'power', '.']\n",
      "['must', 'go', 'hand-in-hand', '.']\n",
      "['good', 'fortun', 'work', 'three', 'great', 'mind', '.']\n",
      "['dr.', 'vikram', 'sarabhai', 'dept', '.']\n",
      "['space', ',', 'professor', 'satish', 'dhawan', ',', 'succeed', 'dr.', 'brahm', 'prakash', ',', 'father', 'nuclear', 'materi', '.']\n",
      "['lucki', 'work', 'three', 'close', 'consid', 'great', 'opportun', 'life', '.']\n",
      "['see', 'four', 'mileston', 'career']\n"
     ]
    }
   ],
   "source": [
    "# Stemming\n",
    "for i in range(len(sentences)):\n",
    "    words = nltk.word_tokenize(sentences[i])\n",
    "    words = [stemmer.stem(word) for word in words if word not in set(stopwords.words('english'))]\n",
    "    sentences[i] = ' '.join(words)\n",
    "    print(words)"
   ]
  },
  {
   "cell_type": "code",
   "execution_count": null,
   "id": "37e47ee6",
   "metadata": {},
   "outputs": [],
   "source": []
  }
 ],
 "metadata": {
  "kernelspec": {
   "display_name": "Python 3 (ipykernel)",
   "language": "python",
   "name": "python3"
  },
  "language_info": {
   "codemirror_mode": {
    "name": "ipython",
    "version": 3
   },
   "file_extension": ".py",
   "mimetype": "text/x-python",
   "name": "python",
   "nbconvert_exporter": "python",
   "pygments_lexer": "ipython3",
   "version": "3.11.0"
  }
 },
 "nbformat": 4,
 "nbformat_minor": 5
}
